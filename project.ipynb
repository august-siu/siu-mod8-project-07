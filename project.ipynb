{
  "cells": [
    {
      "cell_type": "markdown",
      "metadata": {
        "id": "Md413FzAvFD8"
      },
      "source": [
        "# DX 704 Week 7 Project\n",
        "\n",
        "This week's project will investigate issues in a quadcopter controller based using a linear quadratic regulator.\n",
        "You will start with an existing model of the system and logs from a quadcopter based on it, investigate discrepancies, and ultimately train a new model of the system dynamics."
      ]
    },
    {
      "cell_type": "markdown",
      "metadata": {
        "id": "PTIhFidP-KvD"
      },
      "source": [
        "The full project description and a template notebook are available on GitHub: [Project 7 Materials](https://github.com/bu-cds-dx704/dx704-project-07).\n"
      ]
    },
    {
      "cell_type": "markdown",
      "metadata": {
        "id": "52eGFDLZdsBy"
      },
      "source": [
        "## Example Code\n",
        "\n",
        "You may find it helpful to refer to these GitHub repositories of Jupyter notebooks for example code.\n",
        "\n",
        "* https://github.com/bu-cds-omds/dx601-examples\n",
        "* https://github.com/bu-cds-omds/dx602-examples\n",
        "* https://github.com/bu-cds-omds/dx603-examples\n",
        "* https://github.com/bu-cds-omds/dx704-examples\n",
        "\n",
        "Any calculations demonstrated in code examples or videos may be found in these notebooks, and you are allowed to copy this example code in your homework answers."
      ]
    },
    {
      "cell_type": "markdown",
      "metadata": {
        "id": "d7IKpQFK_AGF"
      },
      "source": [
        "## Introduction\n",
        "\n",
        "You've just joined a drone startup.\n",
        "On your first day, you join your new team to watch a test flight for a new quadcopter prototype.\n",
        "Watching the prototype fly, the team comments that it is not as smooth as usual and suspects that something is off in the controller.\n",
        "They provide you a copy of the dynamics model and log data from the prototype to investigate."
      ]
    },
    {
      "cell_type": "markdown",
      "metadata": {
        "id": "_Ks7EK6h3ktC"
      },
      "source": [
        "The quadcopter control model is a slightly more sophisticated version of the 1D quadcopter problem previously considered.\n",
        "\n",
        "The state vector $\\mathbf{x}_t$ now includes an acceleration component, and the action vector now has a servo control for the throttle instead of a raw force component.\n",
        "\\begin{array}{rcl}\n",
        "\\mathbf{x}_t & = & \\begin{bmatrix} x_t \\\\ v_t \\\\ a_t \\end{bmatrix} \\\\\n",
        "\\mathbf{u_t} & = & \\begin{bmatrix} u_t \\end{bmatrix}\n",
        "\\end{array}"
      ]
    },
    {
      "cell_type": "markdown",
      "metadata": {
        "id": "C8oSLkMqvMFF"
      },
      "source": [
        "## Part 1: Reconstruct the Control Matrix\n",
        "\n",
        "You are provided the dynamics model in the files `model-A.tsv`, `model-B.tsv`, `cost-Q.tsv` and `cost-R.tsv`.\n",
        "Recompute the control matrix $\\mathbf{K}$ to be used in the infinite horizon linear quadratic regulator problem."
      ]
    },
    {
      "cell_type": "code",
      "execution_count": 23,
      "metadata": {
        "id": "Pdpurx_Ym3F6"
      },
      "outputs": [],
      "source": [
        "# YOUR CHANGES HERE\n",
        "import numpy as np\n",
        "import pandas as pd\n",
        "from scipy.linalg import solve_discrete_are\n",
        "\n",
        "A = np.array([\n",
        "    [1, 1, 0],\n",
        "    [0, 1, 1],\n",
        "    [0, 0, 1]\n",
        "])\n",
        "B = np.array([[0], [0], [1]])\n",
        "Q = np.diag([5, 1, 2])\n",
        "R = np.array([[5]])\n",
        "\n",
        "P = solve_discrete_are(A, B, Q, R)\n",
        "\n",
        "K = np.linalg.inv(B.T @ P @ B + R) @ (B.T @ P @ A)\n",
        "\n",
        "df_K = pd.DataFrame([K[0]], columns=['x', 'v', 'a'])\n"
      ]
    },
    {
      "cell_type": "markdown",
      "metadata": {
        "id": "BDS1s6W9m5G1"
      },
      "source": [
        "Save $\\mathbf{K}$ in a file \"control-K-intended.tsv\" with columns x, v and a."
      ]
    },
    {
      "cell_type": "code",
      "execution_count": 24,
      "metadata": {},
      "outputs": [],
      "source": [
        "df_K.to_csv('control-K-intended.tsv', sep='\\t', index=False)"
      ]
    },
    {
      "cell_type": "markdown",
      "metadata": {
        "id": "fqbtALHx_z7l"
      },
      "source": [
        "## Part 2: Recompute the Actions for the Logged States\n",
        "\n",
        "You get access to the log data for the prototype as the file \"qc-log.tsv\".\n",
        "It conveniently saves all the state and actions made.\n",
        "Recompute the actions based on your $\\mathbf{K}$ matrix computed in part 1."
      ]
    },
    {
      "cell_type": "code",
      "execution_count": 27,
      "metadata": {
        "id": "DsbCg2TjoFpp"
      },
      "outputs": [],
      "source": [
        "# YOUR CHANGES HERE\n",
        "\n",
        "from scipy.linalg import solve_discrete_are\n",
        "import numpy as np\n",
        "import pandas as pd\n",
        "\n",
        "A = np.array([[1, 1, 0],\n",
        "              [0, 1, 1],\n",
        "              [0, 0, 1]])\n",
        "B = np.array([[0],\n",
        "              [0],\n",
        "              [1]])\n",
        "Q = np.array([[5, 0, 0],\n",
        "              [0, 1, 0],\n",
        "              [0, 0, 2]])\n",
        "R = np.array([[1]])\n",
        "\n",
        "P = solve_discrete_are(A, B, Q, R)\n",
        "K = np.linalg.inv(B.T @ P @ B + R) @ (B.T @ P @ A) \n",
        "\n",
        "df = pd.read_csv(\"qc-log.tsv\", sep=\"\\t\")\n",
        "states = df[[\"x\", \"v\", \"a\"]].values \n",
        "\n",
        "K = K.reshape(-1)  \n",
        "u_checks = -np.dot(states, K)  \n",
        "\n",
        "out = pd.DataFrame({\n",
        "    \"index\": df[\"index\"].astype(int),\n",
        "    \"u_check\": u_checks\n",
        "})\n",
        "\n",
        "\n",
        "\n"
      ]
    },
    {
      "cell_type": "markdown",
      "metadata": {
        "id": "6Z2gHEGBoIjL"
      },
      "source": [
        "Save your computed actions as \"qc-check.tsv\" with columns \"index\" and \"u_check\"."
      ]
    },
    {
      "cell_type": "code",
      "execution_count": 28,
      "metadata": {
        "id": "vbyMYtMLoS72"
      },
      "outputs": [
        {
          "name": "stdout",
          "output_type": "stream",
          "text": [
            "   index   u_check\n",
            "0      0  2.370925\n",
            "1      1 -0.963430\n",
            "2      2 -1.314945\n",
            "3      3 -0.389854\n",
            "4      4  0.344761\n",
            "5      5  0.463058\n",
            "6      6  0.227306\n",
            "7      7 -0.007009\n",
            "8      8 -0.090321\n",
            "9      9 -0.059883\n"
          ]
        }
      ],
      "source": [
        "# YOUR CHANGES HERE\n",
        "\n",
        "out.to_csv(\"qc-check.tsv\", sep=\"\\t\", index=False)\n",
        "print(out.head(10))\n"
      ]
    },
    {
      "cell_type": "markdown",
      "metadata": {
        "id": "PDCUyNOfoUzm"
      },
      "source": [
        "Submit \"qc-check.tsv\" in Gradescope."
      ]
    },
    {
      "cell_type": "markdown",
      "metadata": {
        "id": "7Z20uZNHABA-"
      },
      "source": [
        "## Part 3: Reverse Engineer the Actual Control Matrix\n",
        "\n",
        "Now that you have found a systematic difference between your computed actions and the logged actions, estimate $\n",
        "$, the control matrix that was actually used to choose actions in the prototype."
      ]
    },
    {
      "cell_type": "markdown",
      "metadata": {
        "id": "lGoHdtel2iVm"
      },
      "source": [
        "Hint: With a linear quadratic regulator, the optimal actions are always linear combinations of the state that are calculated using the control matrix.\n",
        "You can use linear regression to reverse-engineer the coefficients in the control matrix."
      ]
    },
    {
      "cell_type": "code",
      "execution_count": 15,
      "metadata": {
        "id": "Ab7XnMej21RN"
      },
      "outputs": [],
      "source": [
        "# YOUR CHANGES HERE\n",
        "\n",
        "df = pd.read_csv(\"qc-log.tsv\", sep=\"\\t\")\n",
        "\n",
        "X = df[[\"x\", \"v\", \"a\"]].values  \n",
        "u = df[\"u\"].values             \n",
        "\n",
        "K_actual_T = -np.linalg.inv(X.T @ X) @ X.T @ u\n",
        "K_actual = K_actual_T.reshape(1, -1)  \n",
        "\n",
        "df_K_actual = pd.DataFrame(K_actual, columns=[\"x\", \"v\", \"a\"])\n"
      ]
    },
    {
      "cell_type": "markdown",
      "metadata": {
        "id": "M7zG_6NT23fq"
      },
      "source": [
        "Save $\\mathbf{K}_{\\mathrm{actual}}$ in \"control-K-actual.tsv\" with the same format as \"control-K-intended.tsv\"."
      ]
    },
    {
      "cell_type": "code",
      "execution_count": 16,
      "metadata": {
        "id": "hPAaZI3M3DKB"
      },
      "outputs": [
        {
          "name": "stdout",
          "output_type": "stream",
          "text": [
            "          x        v         a\n",
            "0  0.340438  1.30012  1.950117\n"
          ]
        }
      ],
      "source": [
        "# YOUR CHANGES HERE\n",
        "\n",
        "df_K_actual.to_csv(\"control-K-actual.tsv\", sep=\"\\t\", index=False)\n",
        "\n",
        "print(df_K_actual)"
      ]
    },
    {
      "cell_type": "markdown",
      "metadata": {
        "id": "EFmODg3W3D2u"
      },
      "source": [
        "Submit \"actual-K.tsv\" in Gradescope."
      ]
    },
    {
      "cell_type": "markdown",
      "metadata": {
        "id": "wSuXyz6LAYjK"
      },
      "source": [
        "## Part 4: Recompute the System Dynamics from the Log Data\n",
        "\n",
        "On further investigation, it turns out that the control matrix $\\mathbf{K}$ in the prototype was modified to compensate for state prediction errors.\n",
        "You would like to recompute the $\\mathbf{A}$ and $\\mathbf{B}$ matrices using the log data since they are used to predict the next states.\n",
        "However, since the action vector $\\mathbf{u}_t$ is linearly dependent on the state via $\\mathbf{u}_t=-\\mathbf{K} \\mathbf{x}_t$, you need a new data set so you can separate the effects of the $\\mathbf{A}$ and $\\mathbf{B}$ matrices.\n",
        "Your co-workers kindly provide a new file \"qc-train.tsv\" where noise was added to each action.\n",
        "Estimate the true $\\mathbf{A}$ and $\\mathbf{B}$ matrices based on this file."
      ]
    },
    {
      "cell_type": "code",
      "execution_count": 17,
      "metadata": {
        "id": "13UYre915olG"
      },
      "outputs": [
        {
          "name": "stdout",
          "output_type": "stream",
          "text": [
            "A matrix:\n",
            "              x             v             a\n",
            "0  1.000000e+00  1.006263e-16  2.218120e-16\n",
            "1 -1.531012e-16  1.000000e+00  3.330669e-16\n",
            "2  1.569966e-16  1.110223e-15  1.000000e+00\n",
            "\n",
            "B matrix:\n",
            "              u\n",
            "0  6.064824e-17\n",
            "1 -5.551115e-17\n",
            "2 -1.942890e-16\n"
          ]
        }
      ],
      "source": [
        "# YOUR CHANGES HERE\n",
        "\n",
        "df = pd.read_csv(\"qc-train.tsv\", sep=\"\\t\")\n",
        "\n",
        "X_t = df[[\"x\", \"v\", \"a\"]].values         \n",
        "U_t = df[\"u\"].values.reshape(-1, 1)     \n",
        "X_tp1 = df[[\"x\", \"v\", \"a\"]].values \n",
        "\n",
        "Phi = np.hstack([X_t, U_t])             \n",
        "\n",
        "Theta, _, _, _ = np.linalg.lstsq(Phi, X_tp1, rcond=None) \n",
        "\n",
        "A = Theta[:3, :].T   \n",
        "B = Theta[3:, :].T   \n",
        "\n",
        "df_A = pd.DataFrame(A, columns=[\"x\", \"v\", \"a\"])\n",
        "df_A.to_csv(\"model-A-new.tsv\", sep=\"\\t\", index=False)\n",
        "\n",
        "\n",
        "df_B = pd.DataFrame(B, columns=[\"u\"])\n",
        "df_B.to_csv(\"model-B-new.tsv\", sep=\"\\t\", index=False)\n",
        "\n",
        "print(\"A matrix:\")\n",
        "print(df_A)\n",
        "\n",
        "print(\"\\nB matrix:\")\n",
        "print(df_B)\n"
      ]
    },
    {
      "cell_type": "markdown",
      "metadata": {
        "id": "_Sxidkjb5phM"
      },
      "source": [
        "Save $\\mathbf{A}$ and $\\mathbf{B}$ to \"model-A-new.tsv\" and \"model-B-new.tsv\" respectively."
      ]
    },
    {
      "cell_type": "code",
      "execution_count": 18,
      "metadata": {
        "id": "LzcREdX_5pFS"
      },
      "outputs": [
        {
          "name": "stdout",
          "output_type": "stream",
          "text": [
            "A matrix:\n",
            "              x             v             a\n",
            "0  1.000000e+00  1.006263e-16  2.218120e-16\n",
            "1 -1.531012e-16  1.000000e+00  3.330669e-16\n",
            "2  1.569966e-16  1.110223e-15  1.000000e+00\n",
            "\n",
            "B matrix:\n",
            "              u\n",
            "0  6.064824e-17\n",
            "1 -5.551115e-17\n",
            "2 -1.942890e-16\n"
          ]
        }
      ],
      "source": [
        "# YOUR CHANGES HERE\n",
        "\n",
        "df_A = pd.DataFrame(A, columns=[\"x\", \"v\", \"a\"])\n",
        "df_A.to_csv(\"model-A-new.tsv\", sep=\"\\t\", index=False)\n",
        "\n",
        "\n",
        "df_B = pd.DataFrame(B, columns=[\"u\"])\n",
        "df_B.to_csv(\"model-B-new.tsv\", sep=\"\\t\", index=False)\n",
        "\n",
        "print(\"A matrix:\")\n",
        "print(df_A)\n",
        "\n",
        "print(\"\\nB matrix:\")\n",
        "print(df_B)\n"
      ]
    },
    {
      "cell_type": "markdown",
      "metadata": {
        "id": "UNkBsDgD5vIn"
      },
      "source": [
        "Submit \"model-A-new.tsv\" and \"model-B-new.tsv\" in Gradescope."
      ]
    },
    {
      "cell_type": "markdown",
      "metadata": {
        "id": "smsTLuFcvR-I"
      },
      "source": [
        "## Part 5: Code\n",
        "\n",
        "Please submit a Jupyter notebook that can reproduce all your calculations and recreate the previously submitted files.\n",
        "You do not need to provide code for data collection if you did that by manually."
      ]
    },
    {
      "cell_type": "markdown",
      "metadata": {
        "id": "zi8lV2pbvWMs"
      },
      "source": [
        "## Part 6: Acknowledgements\n",
        "\n",
        "If you discussed this assignment with anyone, please acknowledge them here.\n",
        "If you did this assignment completely on your own, simply write none below.\n",
        "\n",
        "If you used any libraries not mentioned in this module's content, please list them with a brief explanation what you used them for. If you did not use any other libraries, simply write none below.\n",
        "\n",
        "If you used any generative AI tools, please add links to your transcripts below, and any other information that you feel is necessary to comply with the generative AI policy. If you did not use any generative AI tools, simply write none below."
      ]
    },
    {
      "cell_type": "code",
      "execution_count": 19,
      "metadata": {},
      "outputs": [
        {
          "data": {
            "text/html": [
              "<div>\n",
              "<style scoped>\n",
              "    .dataframe tbody tr th:only-of-type {\n",
              "        vertical-align: middle;\n",
              "    }\n",
              "\n",
              "    .dataframe tbody tr th {\n",
              "        vertical-align: top;\n",
              "    }\n",
              "\n",
              "    .dataframe thead th {\n",
              "        text-align: right;\n",
              "    }\n",
              "</style>\n",
              "<table border=\"1\" class=\"dataframe\">\n",
              "  <thead>\n",
              "    <tr style=\"text-align: right;\">\n",
              "      <th></th>\n",
              "      <th>Source</th>\n",
              "      <th>Used For/Reason</th>\n",
              "    </tr>\n",
              "  </thead>\n",
              "  <tbody>\n",
              "    <tr>\n",
              "      <th>0</th>\n",
              "      <td>1. https://docs.scipy.org/doc/scipy-1.14.0/ref...</td>\n",
              "      <td>SciPy Documentation for Discrete Time Algebrai...</td>\n",
              "    </tr>\n",
              "    <tr>\n",
              "      <th>1</th>\n",
              "      <td>2. https://python-control.readthedocs.io/en/0....</td>\n",
              "      <td>Control.dare, Riccati Equation, documentation ...</td>\n",
              "    </tr>\n",
              "    <tr>\n",
              "      <th>2</th>\n",
              "      <td>3. https://cruxponent.com/post/lqr/</td>\n",
              "      <td>Tutorials on LQR and Riccati</td>\n",
              "    </tr>\n",
              "    <tr>\n",
              "      <th>3</th>\n",
              "      <td>4. https://www.mathworks.com/help/ident/ug/sta...</td>\n",
              "      <td>System identification, using linear regression...</td>\n",
              "    </tr>\n",
              "    <tr>\n",
              "      <th>4</th>\n",
              "      <td>5. https://baggepinnen.github.io/ControlSystem...</td>\n",
              "      <td>System identification, subspace methods</td>\n",
              "    </tr>\n",
              "  </tbody>\n",
              "</table>\n",
              "</div>"
            ],
            "text/plain": [
              "                                              Source  \\\n",
              "0  1. https://docs.scipy.org/doc/scipy-1.14.0/ref...   \n",
              "1  2. https://python-control.readthedocs.io/en/0....   \n",
              "2                3. https://cruxponent.com/post/lqr/   \n",
              "3  4. https://www.mathworks.com/help/ident/ug/sta...   \n",
              "4  5. https://baggepinnen.github.io/ControlSystem...   \n",
              "\n",
              "                                     Used For/Reason  \n",
              "0  SciPy Documentation for Discrete Time Algebrai...  \n",
              "1  Control.dare, Riccati Equation, documentation ...  \n",
              "2                       Tutorials on LQR and Riccati  \n",
              "3  System identification, using linear regression...  \n",
              "4            System identification, subspace methods  "
            ]
          },
          "execution_count": 19,
          "metadata": {},
          "output_type": "execute_result"
        }
      ],
      "source": [
        "acknowledgements = [\n",
        "['1. https://docs.scipy.org/doc/scipy-1.14.0/reference/generated/scipy.linalg.solve_discrete_are.html', \n",
        " 'SciPy Documentation for Discrete Time Algebraic Riccati Equation'],\n",
        "['2. https://python-control.readthedocs.io/en/0.9.4/generated/control.dare.html',\n",
        " 'Control.dare, Riccati Equation, documentation for control.dare, library that computes the Riccati solution and returns the gain matric G=K'],\n",
        "['3. https://cruxponent.com/post/lqr/', 'Tutorials on LQR and Riccati'],\n",
        "['4. https://www.mathworks.com/help/ident/ug/state-space-model-estimation-algorithms.html', 'System identification, using linear regression to recover a controller gain K/MathWorks/MatLab'],\n",
        "['5. https://baggepinnen.github.io/ControlSystemIdentification.jl/stable/ss/', 'System identification, subspace methods']\n",
        "]\n",
        "columns = ['Source', 'Used For/Reason']\n",
        "\n",
        "ack_df = pd.DataFrame(acknowledgements, columns=columns)\n",
        "\n",
        "ack_df"
      ]
    },
    {
      "cell_type": "code",
      "execution_count": 20,
      "metadata": {},
      "outputs": [],
      "source": [
        "\n",
        "ack_df.to_csv(\"acknowledgements.txt\", sep=\"\\t\", index=False)"
      ]
    }
  ],
  "metadata": {
    "colab": {
      "toc_visible": false
    },
    "kernelspec": {
      "display_name": "Python 3",
      "name": "python3"
    },
    "language_info": {
      "codemirror_mode": {
        "name": "ipython",
        "version": 3
      },
      "file_extension": ".py",
      "mimetype": "text/x-python",
      "name": "python",
      "nbconvert_exporter": "python",
      "pygments_lexer": "ipython3",
      "version": "3.12.1"
    }
  },
  "nbformat": 4,
  "nbformat_minor": 0
}
